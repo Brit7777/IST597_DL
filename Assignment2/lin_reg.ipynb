{
 "cells": [
  {
   "cell_type": "markdown",
   "metadata": {},
   "source": [
    "## Process of Training\n",
    "\n",
    "1. Hypothesis set = directed acyclic graph 만들기\n",
    "Ex) neural network\n",
    "2. Loss function = probability로 구하는 게 젤 효율적 ex) softmax, gaussian \n",
    "3. Optimization algorithm(to reduce loss) = 미분을 통해 gradient만 잘 계산하면 장땡 using backpropagation(자동으로 gradient 계산해줌)\n",
    "-> 모든 데이터에 대한 gradient 구하는건 너무 비효율적&time consuming하니 \n",
    "stokcast gradient descent = 트레이닝 데이터 여러개중 몇개만 골라서 gradient 구해주기"
   ]
  },
  {
   "cell_type": "markdown",
   "metadata": {},
   "source": [
    "## Loss Function\n",
    "We use a loss function to determine how far the predicted values deviate from the actual values in the training data.\n",
    "\n",
    "손실 함수는 학습을 통해 얻은 데이터의 추정치가 실제 데이터와 얼마나 차이나는지 평가하는 지표로 쓰인다. 이 값이 크면 클수록 많이 틀렸다는 의미고, 이 값이 0일수록 무손실\n",
    "\n",
    "https://www.tensorflow.org/api_docs/python/tf/losses\n",
    "\n",
    "https://heartbeat.fritz.ai/5-regression-loss-functions-all-machine-learners-should-know-4fb140e9d4b0"
   ]
  },
  {
   "cell_type": "markdown",
   "metadata": {},
   "source": [
    "### - MSE\n",
    "MSE is the sum of squared distances between our target variable and predicted values."
   ]
  },
  {
   "cell_type": "code",
   "execution_count": 2,
   "metadata": {},
   "outputs": [
    {
     "ename": "NameError",
     "evalue": "name 'tf' is not defined",
     "output_type": "error",
     "traceback": [
      "\u001b[0;31m---------------------------------------------------------------------------\u001b[0m",
      "\u001b[0;31mNameError\u001b[0m                                 Traceback (most recent call last)",
      "\u001b[0;32m<ipython-input-2-4d1da6151a1c>\u001b[0m in \u001b[0;36m<module>\u001b[0;34m\u001b[0m\n\u001b[0;32m----> 1\u001b[0;31m \u001b[0mmse\u001b[0m \u001b[0;34m=\u001b[0m \u001b[0mtf\u001b[0m\u001b[0;34m.\u001b[0m\u001b[0mlosses\u001b[0m\u001b[0;34m.\u001b[0m\u001b[0mmean_squared_error\u001b[0m\u001b[0;34m(\u001b[0m\u001b[0my\u001b[0m\u001b[0;34m,\u001b[0m \u001b[0my_predicted\u001b[0m\u001b[0;34m)\u001b[0m\u001b[0;34m\u001b[0m\u001b[0;34m\u001b[0m\u001b[0m\n\u001b[0m",
      "\u001b[0;31mNameError\u001b[0m: name 'tf' is not defined"
     ]
    }
   ],
   "source": [
    "mse = tf.losses.mean_squared_error(y, y_predicted)"
   ]
  },
  {
   "cell_type": "markdown",
   "metadata": {},
   "source": [
    "### - Huber Loss\n",
    "Huber loss is less sensitive to outliers in data than the squared error loss\n",
    "\n",
    "https://www.tensorflow.org/api_docs/python/tf/losses/huber_loss"
   ]
  },
  {
   "cell_type": "markdown",
   "metadata": {},
   "source": [
    "## Gradient Descent\n",
    "Gradient Descent is an optimization algorithm used for minimizing the cost function in various machine learning algorithms. It is basically used for updating the parameters of the learning model.\n",
    "\n",
    "https://www.geeksforgeeks.org/gradient-descent-algorithm-and-its-variants/"
   ]
  },
  {
   "cell_type": "code",
   "execution_count": 5,
   "metadata": {},
   "outputs": [
    {
     "name": "stdout",
     "output_type": "stream",
     "text": [
      "Loss at step 000: 65.726\n",
      "Loss at step 100: 44.310\n",
      "Loss at step 200: 29.986\n",
      "Loss at step 300: 20.406\n",
      "Loss at step 400: 13.998\n",
      "Loss at step 500: 9.712\n",
      "Loss at step 600: 6.845\n",
      "Loss at step 700: 4.927\n",
      "Loss at step 800: 3.645\n",
      "Loss at step 900: 2.787\n",
      "Loss at step 1000: 2.213\n",
      "W : [3.3561802] , b  = [2.9686484] \n"
     ]
    },
    {
     "data": {
      "text/plain": [
       "<function matplotlib.pyplot.show(*args, **kw)>"
      ]
     },
     "execution_count": 5,
     "metadata": {},
     "output_type": "execute_result"
    },
    {
     "data": {
      "image/png": "[encoded data removed]",
      "text/plain": [
       "<Figure size 432x288 with 1 Axes>"
      ]
     },
     "metadata": {
      "needs_background": "light"
     },
     "output_type": "display_data"
    }
   ],
   "source": [
    "\"\"\"\n",
    "author:-aam35\n",
    "\"\"\"\n",
    "import time\n",
    "\n",
    "import tensorflow as tf\n",
    "import tensorflow.contrib.eager as tfe\n",
    "import matplotlib.pyplot as plt\n",
    "\n",
    "tfe.enable_eager_execution()\n",
    "\n",
    "# random seed to get the consistent result\n",
    "tf.random.set_random_seed(6)\n",
    "\n",
    "# Create data\n",
    "NUM_EXAMPLES = 500\n",
    "\n",
    "#define inputs and outputs with some noise \n",
    "X = tf.random_normal([NUM_EXAMPLES])  #inputs \n",
    "noise = tf.random_normal([NUM_EXAMPLES]) #noise \n",
    "y = X * 3 + 2 + noise  #true output\n",
    "\n",
    "# Create variables.\n",
    "W = tf.Variable(tf.random_uniform([1],0,10,dtype=tf.float32))\n",
    "b = tf.Variable(tf.random_uniform([1],0,10,dtype=tf.float32))\n",
    "\n",
    "\n",
    "train_steps = 1000\n",
    "learning_rate = 0.001\n",
    "\n",
    "# Define the linear predictor.\n",
    "def prediction(x):\n",
    "    y_predicted = tf.add(tf.multiply(X,W),b)\n",
    "    return y_predicted\n",
    "\n",
    "# Define loss functions of the form: L(y, y_predicted)\n",
    "def squared_loss(y, y_predicted):\n",
    "    loss = tf.reduce_mean(tf.square(y-y_predicted))\n",
    "    return loss\n",
    "\n",
    "def huber_loss(y, y_predicted, m=1.0):\n",
    "    error = y-y_predicted\n",
    "    loss = tf.Variable(0.0)\n",
    "    for i in error:\n",
    "        if tf.abs(i)<=m:\n",
    "            loss = tf.add(loss,0.5*tf.square(i))\n",
    "        else:\n",
    "            loss = tf.add(loss,0.5*tf.square(i)+m*(tf.abs(i)-m))\n",
    "    return loss//NUM_EXAMPLES\n",
    "\n",
    "\n",
    "for i in range(train_steps+1):\n",
    "  #watch the gradient flow \n",
    "    with tf.GradientTape() as tape:\n",
    "    \n",
    "        #get prediction\n",
    "        y_predicted = prediction(X)\n",
    "    \n",
    "        #calcuate the loss (difference squared error)\n",
    "        loss = squared_loss(y,y_predicted)\n",
    "        # caculate the loss (huber loss)\n",
    "        #loss = huber_loss(y,y_predicted)\n",
    "        # calculate hybrid loss\n",
    "        #loss = squared_loss(y,y_predicted) + huber_loss(y,y_predicted)\n",
    "  \n",
    "    #evaluate the gradient with the respect to the paramters\n",
    "    dW, db = tape.gradient(loss, [W, b])\n",
    "\n",
    "    #update the paramters using Gradient Descent  \n",
    "    W.assign_sub(dW * learning_rate)\n",
    "    b.assign_sub(db* learning_rate)\n",
    "\n",
    "    #print the loss every 20 iterations \n",
    "    if i % 100 == 0:\n",
    "        print(\"Loss at step {:03d}: {:.3f}\".format(i, loss))\n",
    "      \n",
    "    \n",
    "# print the result\n",
    "print(f'W : {W.numpy()} , b  = {b.numpy()} ')\n",
    "plt.plot(X, y, 'bo',label='org')\n",
    "plt.plot(X, X * W.numpy() + b.numpy(), 'r',\n",
    "         label=\"huber regression\")\n",
    "plt.legend()\n",
    "plt.show"
   ]
  }
 ],
 "metadata": {
  "kernelspec": {
   "display_name": "Python 3",
   "language": "python",
   "name": "python3"
  },
  "language_info": {
   "codemirror_mode": {
    "name": "ipython",
    "version": 3
   },
   "file_extension": ".py",
   "mimetype": "text/x-python",
   "name": "python",
   "nbconvert_exporter": "python",
   "pygments_lexer": "ipython3",
   "version": "3.7.1"
  }
 },
 "nbformat": 4,
 "nbformat_minor": 2
}
